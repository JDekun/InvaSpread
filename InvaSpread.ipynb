{
 "cells": [
  {
   "cell_type": "markdown",
   "metadata": {},
   "source": [
    "[![Open In Colab](https://colab.research.google.com/assets/colab-badge.svg)](https://colab.research.google.com/github/JDekun/InvaSpread/blob/master/InvaSpread.ipynb) [![Open In Kaggle](https://kaggle.com/static/images/open-in-kaggle.svg)](https://kaggle.com/kernels/welcome?src=https://github.com/JDekun/InvaSpread/blob/master/InvaSpread.ipynb) [![Open In Github](https://badgen.net/badge/icon/Open%20InvaSpread?icon=github&label)](https://github.com/JDekun/InvaSpread)"
   ]
  },
  {
   "cell_type": "code",
   "execution_count": null,
   "metadata": {},
   "outputs": [],
   "source": [
    "#@title \n",
    "#@markdown\n",
    "'''\n",
    "自动化代码，当值 colab 断路\n",
    "function ConnectButton(){\n",
    "    console.log(\"Connect pushed\"); \n",
    "    document.querySelector(\"#top-toolbar > colab-connect-button\").shadowRoot.querySelector(\"#connect\").click() \n",
    "}\n",
    "setInterval(ConnectButton,60000);\n",
    "'''\n",
    "\n",
    "######### 运行的模式 #########\n",
    "model=\"colab\" #@param {type: \"string\"}\n",
    "######### 数据集名字 #########\n",
    "datasets = []  #@param {type:\"raw\"}\n",
    "######### GitHub名字 #########\n",
    "github = [\"https://github.com/JDekun/InvaSpread.git\"]  #@param {type:\"raw\"}\n",
    "######### 工作路径 #########\n",
    "working = \"InvaSpread\"  #@param {type: \"string\"}\n",
    "######### TensorBoard #########\n",
    "tensorboard_path = \"runs/colab\"  #@param {type: \"string\"}\n",
    "\n",
    "import os\n",
    "\n",
    "if model == \"colab\":\n",
    "  # 构建 working 文件夹和文件\n",
    "  if not os.path.exists('/content/working'):\n",
    "    !mkdir /content/working\n",
    "  os.chdir('/content/working')\n",
    "\n",
    "# 克隆 github 项目\n",
    "len_github = len(github)\n",
    "if len_github != 0:\n",
    "  print('###### 克隆项目 ######')\n",
    "  for i in range(len_github):\n",
    "    temp = github[i]\n",
    "    !git clone $temp\n",
    "\n",
    "if model == \"colab\":\n",
    "  # 导入Kaggle API\n",
    "  os.chdir('/content')\n",
    "  !git clone https://github.com/JDekun/Kaggle.git > /dev/null 2>&1\n",
    "  os.environ['KAGGLE_CONFIG_DIR'] = '/content/Kaggle' #注意kaggle文件夹包含json文件 \n",
    "\n",
    "  # 构建 input 文件夹和文件\n",
    "  if not os.path.exists('/content/input'):\n",
    "    !mkdir /content/input\n",
    "  os.chdir('/content/input')\n",
    "\n",
    "  len_mydekun = len(datasets)\n",
    "  if len_mydekun != 0:\n",
    "    print('###### 下载数据 ######')\n",
    "    for i in range(len_mydekun):\n",
    "      # 下载 kaggle 数据集\n",
    "      temp = datasets[i]\n",
    "      name, dataset = temp.split('/')\n",
    "      zip = dataset + '.zip'\n",
    "      !kaggle datasets download -d $temp -p $dataset\n",
    "      # 解压数据集并删除压缩包\n",
    "      !unzip $dataset/$zip -d $dataset > /dev/null 2>&1\n",
    "      !rm -f $dataset/$zip\n",
    "\n",
    "  # 构建 working 文件夹和文件\n",
    "  if not os.path.exists('/content/working'):\n",
    "    !mkdir /content/working\n",
    "  os.chdir('/content/working')\n",
    "\n",
    "print('###### 工作路径 ######')\n",
    "os.chdir(working)\n",
    "!pwd\n",
    "\n",
    "if model == \"colab\":\n",
    "  len_tbp = len(tensorboard_path)\n",
    "  if len_tbp != 0:\n",
    "    print('###### TensorBoard ######')\n",
    "    print('TB_Path: %s' % tensorboard_path)\n",
    "    %reload_ext tensorboard\n",
    "    %tensorboard --logdir $tensorboard_path"
   ]
  }
 ],
 "metadata": {
  "kernelspec": {
   "display_name": "Python 3.9.12 ('base')",
   "language": "python",
   "name": "python3"
  },
  "language_info": {
   "name": "python",
   "version": "3.9.12"
  },
  "orig_nbformat": 4,
  "vscode": {
   "interpreter": {
    "hash": "cc9daa352394ac6fd6b224fdae94757fb224b4aab069bc0189ad8c000c678227"
   }
  }
 },
 "nbformat": 4,
 "nbformat_minor": 2
}
